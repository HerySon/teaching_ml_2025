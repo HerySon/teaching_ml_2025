{
 "cells": [
  {
   "cell_type": "markdown",
   "id": "e87575b7",
   "metadata": {},
   "source": [
    "### [Tache0][4.5points] Proposer du code pour filtrer le data frame"
   ]
  },
  {
   "cell_type": "markdown",
   "id": "0918236d",
   "metadata": {},
   "source": [
    "##### Importation des bibliothèques"
   ]
  },
  {
   "cell_type": "code",
   "execution_count": null,
   "id": "6f213961",
   "metadata": {},
   "outputs": [
    {
     "name": "stdout",
     "output_type": "stream",
     "text": [
      "The autoreload extension is already loaded. To reload it, use:\n",
      "  %reload_ext autoreload\n"
     ]
    }
   ],
   "source": [
    "%load_ext autoreload\n",
    "%autoreload 2\n",
    "\n",
    "\n",
    "import pandas as pd\n",
    "import matplotlib.pyplot as plt\n",
    "import sys\n",
    "sys.path.append('../scripts')\n",
    "from data_preprocessing import detect_and_filter_columns \n"
   ]
  },
  {
   "cell_type": "markdown",
   "id": "66aeaed0",
   "metadata": {},
   "source": []
  },
  {
   "cell_type": "markdown",
   "id": "af7115c2",
   "metadata": {},
   "source": [
    "##### Chargement du dataset"
   ]
  },
  {
   "cell_type": "code",
   "execution_count": 110,
   "id": "75966a23",
   "metadata": {},
   "outputs": [],
   "source": [
    "# Je charge le dataset en ne prenant que les 1000 premières lignes afin de tester les fonctions\n",
    "path = \"../data/dataset.csv\" # Chemin du dataset \n",
    "df = pd.read_csv(path, nrows=1000, sep=',',encoding=\"utf-8\")"
   ]
  },
  {
   "cell_type": "code",
   "execution_count": null,
   "id": "2ce6f6fb",
   "metadata": {},
   "outputs": [
    {
     "name": "stdout",
     "output_type": "stream",
     "text": [
      "<class 'pandas.core.frame.DataFrame'>\n",
      "RangeIndex: 1000 entries, 0 to 999\n",
      "Columns: 145 entries, Unnamed: 0 to owner\n",
      "dtypes: category(8), float32(131), float64(1), int16(1), int32(4)\n",
      "memory usage: 546.7 KB\n"
     ]
    },
    {
     "data": {
      "text/plain": [
       "None"
      ]
     },
     "metadata": {},
     "output_type": "display_data"
    }
   ],
   "source": [
    "# Utilisation de la fonction detect_and_filter_columns\n",
    "df = detect_and_filter_columns(df, max_categories=10)\n",
    "\n",
    "display(df.info())\n",
    "# Le DataFrame contient 1 000 lignes, 145 colonnes avec plusieurs types de données (catégorie, float32, float64, int16, int32) et 546 Ko de mémoire."
   ]
  }
 ],
 "metadata": {
  "kernelspec": {
   "display_name": "clustering_OFF",
   "language": "python",
   "name": "python3"
  },
  "language_info": {
   "codemirror_mode": {
    "name": "ipython",
    "version": 3
   },
   "file_extension": ".py",
   "mimetype": "text/x-python",
   "name": "python",
   "nbconvert_exporter": "python",
   "pygments_lexer": "ipython3",
   "version": "3.13.1"
  }
 },
 "nbformat": 4,
 "nbformat_minor": 5
}
